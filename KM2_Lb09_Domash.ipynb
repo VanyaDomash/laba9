{
 "cells": [
  {
   "cell_type": "markdown",
   "id": "ebcb27b3-28f6-4478-b471-cad7704b691b",
   "metadata": {},
   "source": [
    "# Лабораторная работа 9\n",
    "# Создание текстового файла большого объема с помощью генераторной функции\n",
    "## Домаш Иван , 06.06.2025\n"
   ]
  },
  {
   "cell_type": "markdown",
   "id": "abb218a7-706e-4095-821d-dd9d8f5ea0eb",
   "metadata": {},
   "source": [
    "## Функция randint из модуля random\n"
   ]
  },
  {
   "cell_type": "code",
   "execution_count": 3,
   "id": "db182d0b-e56a-4df7-b09a-3c0f914a6662",
   "metadata": {},
   "outputs": [],
   "source": [
    "from random import randint"
   ]
  },
  {
   "cell_type": "code",
   "execution_count": 4,
   "id": "3af8574f-e236-4fc8-98eb-31f634eece5a",
   "metadata": {},
   "outputs": [
    {
     "data": {
      "text/plain": [
       "\u001b[1;31mSignature:\u001b[0m \u001b[0mrandint\u001b[0m\u001b[1;33m(\u001b[0m\u001b[0ma\u001b[0m\u001b[1;33m,\u001b[0m \u001b[0mb\u001b[0m\u001b[1;33m)\u001b[0m\u001b[1;33m\u001b[0m\u001b[1;33m\u001b[0m\u001b[0m\n",
       "\u001b[1;31mDocstring:\u001b[0m\n",
       "Return random integer in range [a, b], including both end points.\n",
       "        \n",
       "\u001b[1;31mFile:\u001b[0m      d:\\python\\envs\\widgets_env\\lib\\random.py\n",
       "\u001b[1;31mType:\u001b[0m      method"
      ]
     },
     "metadata": {},
     "output_type": "display_data"
    }
   ],
   "source": [
    "?randint\n"
   ]
  },
  {
   "cell_type": "code",
   "execution_count": 5,
   "id": "e3f85c5f-8b48-4003-98cf-48c7044fc9ff",
   "metadata": {},
   "outputs": [
    {
     "data": {
      "text/plain": [
       "'Код символа: 118, символ: v'"
      ]
     },
     "execution_count": 5,
     "metadata": {},
     "output_type": "execute_result"
    }
   ],
   "source": [
    "latin_code = (ord('a'), ord('z')) # соответствует type_symbols = 'latin'\n",
    "f'Код символа: {(c:=randint(*latin_code))}, символ: {chr(c)}'\n"
   ]
  },
  {
   "cell_type": "markdown",
   "id": "d5e6c091-eaa7-48e2-b949-2c870bf8c9e6",
   "metadata": {},
   "source": [
    "## Функция process_time из модуля time\n"
   ]
  },
  {
   "cell_type": "code",
   "execution_count": 6,
   "id": "33f4fc7d-2bab-4bea-b675-53c2d2fa398c",
   "metadata": {},
   "outputs": [
    {
     "data": {
      "text/plain": [
       "\u001b[1;31mDocstring:\u001b[0m\n",
       "process_time() -> float\n",
       "\n",
       "Process time for profiling: sum of the kernel and user-space CPU time.\n",
       "\u001b[1;31mType:\u001b[0m      builtin_function_or_method"
      ]
     },
     "metadata": {},
     "output_type": "display_data"
    }
   ],
   "source": [
    "from time import process_time\n",
    "?process_time\n"
   ]
  },
  {
   "cell_type": "code",
   "execution_count": 7,
   "id": "82ec79a6-01d9-4454-bb87-b4432b568580",
   "metadata": {},
   "outputs": [
    {
     "name": "stdout",
     "output_type": "stream",
     "text": [
      "0.140625 секунд\n"
     ]
    }
   ],
   "source": [
    "start = process_time()\n",
    "[x**2 for x in range(1_000_000)]\n",
    "end = process_time()\n",
    "print(f'{end - start} секунд')"
   ]
  },
  {
   "cell_type": "markdown",
   "id": "e57e0f18-6236-48a0-888a-b080904b24b4",
   "metadata": {},
   "source": [
    "## Задание 9.1. Запись данных в текстовый файл\n",
    "\n"
   ]
  },
  {
   "cell_type": "code",
   "execution_count": 8,
   "id": "ce009388-4221-440a-8425-a7fac077bedd",
   "metadata": {},
   "outputs": [],
   "source": [
    "file_name = 'test.txt'\n",
    "f = open(file_name, 'w')"
   ]
  },
  {
   "cell_type": "code",
   "execution_count": 9,
   "id": "d8321f39-68ef-4e57-bdac-00c59231b87c",
   "metadata": {},
   "outputs": [
    {
     "data": {
      "text/plain": [
       "['t\\n', 'e\\n', 's\\n', 't\\n']"
      ]
     },
     "execution_count": 9,
     "metadata": {},
     "output_type": "execute_result"
    }
   ],
   "source": [
    "lines_list = [f'{x}\\n' for x in 'test']\n",
    "lines_list\n"
   ]
  },
  {
   "cell_type": "code",
   "execution_count": 10,
   "id": "1014524d-edb2-4142-b1ea-1f6c595b1f4c",
   "metadata": {},
   "outputs": [],
   "source": [
    "f.writelines(lines_list)"
   ]
  },
  {
   "cell_type": "code",
   "execution_count": 11,
   "id": "f156b6c6-bb86-4048-938b-cb8395bd584b",
   "metadata": {},
   "outputs": [],
   "source": [
    "f.close()"
   ]
  },
  {
   "cell_type": "code",
   "execution_count": 12,
   "id": "5dc6592f-b18b-43d5-b021-e028af2594ba",
   "metadata": {},
   "outputs": [
    {
     "name": "stdout",
     "output_type": "stream",
     "text": [
      "t\n",
      "e\n",
      "s\n",
      "t\n"
     ]
    }
   ],
   "source": [
    "with open(file_name,'r') as f:\n",
    " for line in f:\n",
    "  print(line, end='')\n"
   ]
  },
  {
   "cell_type": "code",
   "execution_count": 13,
   "id": "e637d816-5a34-48cc-82ad-17263748aa1e",
   "metadata": {},
   "outputs": [],
   "source": [
    "lines_gen_expr = (f'{x}\\n' for x in range(10**6))\n",
    "def lines_gen_fun(number_lines=10**6):\n",
    " yield from (f'{x}\\n' for x in range(number_lines))\n",
    "with open(file_name,'w') as f:\n",
    " f.writelines(lines_gen_expr)\n",
    " f.writelines(lines_gen_fun())\n"
   ]
  },
  {
   "cell_type": "code",
   "execution_count": 14,
   "id": "ffc2c56b-379b-4eaa-8dd3-52ff33fd40b6",
   "metadata": {},
   "outputs": [
    {
     "name": "stdout",
     "output_type": "stream",
     "text": [
      "6.569757461547852 Mb\n"
     ]
    }
   ],
   "source": [
    "def lines_gen_fun(number_lines = 10**6):\n",
    "  file_size = 0\n",
    "  for x in range(number_lines):\n",
    "   line = f'{x}\\n'\n",
    "   yield line\n",
    "   file_size += len(line)\n",
    "  print(f'{file_size/1024**2} Mb')\n",
    "\n",
    "with open(file_name,'w') as f:\n",
    " f.writelines(lines_gen_fun())\n"
   ]
  },
  {
   "cell_type": "code",
   "execution_count": 15,
   "id": "3e06ecc6-5e2f-4c45-8f3b-3821581ff257",
   "metadata": {},
   "outputs": [
    {
     "data": {
      "text/plain": [
       "(1, 1, 1, 2)"
      ]
     },
     "execution_count": 15,
     "metadata": {},
     "output_type": "execute_result"
    }
   ],
   "source": [
    "len('f'), len('f'.encode('utf8')), len('ц'), len('ц'.encode('utf8'))\n"
   ]
  },
  {
   "cell_type": "code",
   "execution_count": 16,
   "id": "41a0dd84-fda7-4bd5-a34f-9a2cd82d684d",
   "metadata": {},
   "outputs": [
    {
     "name": "stdout",
     "output_type": "stream",
     "text": [
      "6.569757461547852 Mb\n",
      "0.90625 секунд\n"
     ]
    }
   ],
   "source": [
    "with open(file_name,'w') as f:\n",
    " start = process_time()\n",
    " f.writelines(lines_gen_fun())\n",
    " end = process_time()\n",
    " print(end - start, 'секунд')"
   ]
  },
  {
   "cell_type": "code",
   "execution_count": 17,
   "id": "bfdfd9a4-f1d6-4bcd-8960-202e50622f2f",
   "metadata": {},
   "outputs": [],
   "source": [
    "#   number_lines - количество генерируемых строк (по умолчанию 1 миллион)\n",
    "#   status - флаг отображения прогресса генерации (по умолчанию False)\n",
    "def lines_gen_fun(number_lines=10**6, status=False):\n",
    " file_size = 0 # Формирование строки: число + символ переноса строки\n",
    " for x in range(number_lines): \n",
    "  line = f'{x}\\n'# Формирование строки: число + символ переноса строки\n",
    "  yield line # Возврат сгенерированной строки (функция-генератор)\n",
    "  file_size += len(line)  # Подсчет общего размера сгенерированных данных (в байтах)\n",
    " # отображение статуса записи в файл в процентах\n",
    "  if status:\n",
    "   status_number = x/number_lines*100\n",
    " # \\r возврат курсора в начало строки для перезаписи\n",
    " print(f'\\r{int(status_number)}%', end='', flush=True)\n",
    " print(f'\\n {file_size/1024**2} Mb') \n"
   ]
  },
  {
   "cell_type": "code",
   "execution_count": 18,
   "id": "356fc5da-149d-4661-a499-b8721a6dfc7d",
   "metadata": {},
   "outputs": [
    {
     "name": "stdout",
     "output_type": "stream",
     "text": [
      "99%\n",
      " 0.013246536254882812 Mb\n",
      "0.0 секунд\n"
     ]
    }
   ],
   "source": [
    "with open(file_name,'w') as f:\n",
    " start = process_time()\n",
    " f.writelines(lines_gen_fun(3*10**3, status=True))\n",
    " end = process_time()\n",
    " print(f'{end - start} секунд')\n"
   ]
  },
  {
   "cell_type": "markdown",
   "id": "abbc860a-8d77-4b06-b67b-cf52f15085a7",
   "metadata": {},
   "source": [
    "## Задание 9.2. Генерация строк"
   ]
  },
  {
   "cell_type": "code",
   "execution_count": 19,
   "id": "d681a047-41eb-4efa-985e-1dbb5e8e4461",
   "metadata": {},
   "outputs": [],
   "source": [
    "latin_code = (ord('a'), ord('z')) \n",
    "number_words = (10, 20)\n",
    "number_symbols = (5, 10)\n"
   ]
  },
  {
   "cell_type": "code",
   "execution_count": 20,
   "id": "ce4018f6-e22f-4a8b-a191-790f92470136",
   "metadata": {},
   "outputs": [
    {
     "data": {
      "text/plain": [
       "'wxmxmigulo'"
      ]
     },
     "execution_count": 20,
     "metadata": {},
     "output_type": "execute_result"
    }
   ],
   "source": [
    "len_word = randint(*number_symbols)\n",
    "word = ''.join([chr(randint(*latin_code)) for i in range(len_word)])\n",
    "word"
   ]
  },
  {
   "cell_type": "code",
   "execution_count": 36,
   "id": "14c6f669-fc1b-4ecc-befa-d7a53632cc69",
   "metadata": {},
   "outputs": [
    {
     "name": "stdout",
     "output_type": "stream",
     "text": [
      "ТНОИЦЮС ГТХАКЖСМ ЙЗБШДЮСЪЧЖНХ 990331318856 ИШОШПЛШ\n",
      "87333 50844 15133743\n",
      "WXGNYDNCPLFJ БЭЩТЖЫВЦ ЮЮЯЪЕЪЦПДРДЭ ХМШЩЗШБТПСЛМЦ ДУСМИТА ЧЧКЕЪЬП\n",
      "7581 QMZD 516 УЧЪ 288 ЬЦПЙЧЗАХЯЮ WOIEX\n",
      "97204760 SYGIKKNYAE 60236491851 ЕЛИТНЦРЦСХЯН 34902069889 FQCE\n"
     ]
    }
   ],
   "source": [
    "import random\n",
    "from string import ascii_uppercase, digits\n",
    "\n",
    "def generate_random_word():\n",
    "    alphabets = {\n",
    "        'latin': ascii_uppercase,  \n",
    "        'digits': digits,           \n",
    "        'cyrillic': 'АБВГДЕЁЖЗИЙКЛМНОПРСТУФХЦЧШЩЪЫЬЭЮЯ'  \n",
    "    }\n",
    "    \n",
    "    alphabet_name = random.choice(list(alphabets.keys()))\n",
    "    alphabet = alphabets[alphabet_name]\n",
    "    word_length = random.randint(3, 13)\n",
    "    word = ''.join(random.choice(alphabet) for _ in range(word_length))\n",
    "    \n",
    "    return word\n",
    "\n",
    "def generate_random_sentence():\n",
    "    num_words = random.randint(2, 7)\n",
    "    sentence = ' '.join(generate_random_word() for _ in range(num_words))\n",
    "    return sentence\n",
    "\n",
    "for i in range(5):  \n",
    "    print(generate_random_sentence())"
   ]
  },
  {
   "cell_type": "code",
   "execution_count": 43,
   "id": "9796b0c0-0b15-41c1-9b7b-e9f8263956e3",
   "metadata": {},
   "outputs": [],
   "source": [
    "def lines_gen_fun_v2(file_size, type_symbols='mixed',min_words=10,max_words = 20,min_symbols = 5,  max_symbols=10,  status=False):\n",
    "\n",
    "    alphabets = {\n",
    "        'latin': ascii_uppercase,\n",
    "        'digits': digits,\n",
    "        'cyrillic': 'АБВГДЕЁЖЗИЙКЛМНОПРСТУФХЦЧШЩЪЫЬЭЮЯ',\n",
    "        'mixed': ascii_uppercase + digits + 'АБВГДЕЁЖЗИЙКЛМНОПРСТУФХЦЧШЩЪЫЬЭЮЯ'\n",
    "    }\n",
    "    \n",
    "    current_size = 0  \n",
    "    target_bytes = file_size * 1024**2  \n",
    "    line_count = 0\n",
    "    \n",
    "    while current_size < target_bytes:\n",
    "        \n",
    "        words = []\n",
    "        for _ in range(random.randint(min_words, max_words)):\n",
    "            word_length = random.randint(min_symbols, max_symbols)\n",
    "            word = ''.join(random.choice(alphabets[type_symbols]) for _ in range(word_length))\n",
    "            words.append(word)\n",
    "        \n",
    "        line = ' '.join(words) + '\\n'\n",
    "        line_size = len(line.encode('utf-8'))  #  кириллицы\n",
    "        \n",
    "        yield line\n",
    "        current_size += line_size\n",
    "    \n",
    "    if status:\n",
    "        print(f'\\nend {current_size/1024**2:.2f} Мб')\n"
   ]
  },
  {
   "cell_type": "code",
   "execution_count": 46,
   "id": "defb6b5a-b9e0-45c6-beca-48ec2665f07e",
   "metadata": {},
   "outputs": [
    {
     "name": "stdout",
     "output_type": "stream",
     "text": [
      "\n",
      "end 1.00 Мб\n"
     ]
    }
   ],
   "source": [
    "\n",
    "gen = lines_gen_fun_v2(file_size=1, type_symbols='mixed', status=True)\n",
    "with open('random_text.txt', 'w', encoding='utf-8') as f:\n",
    "    for line in gen:\n",
    "        f.write(line)"
   ]
  },
  {
   "cell_type": "code",
   "execution_count": 47,
   "id": "4ae0dc7d-1ba5-4f07-8307-d71b85d08db4",
   "metadata": {},
   "outputs": [
    {
     "name": "stdout",
     "output_type": "stream",
     "text": [
      "\n",
      "end 0.50 Мб\n"
     ]
    }
   ],
   "source": [
    "gen = lines_gen_fun_v2(file_size=0.5, type_symbols='latin', status=True)\n",
    "with open('test_latin.txt', 'w', encoding='utf-8') as f:\n",
    "    for line in gen:\n",
    "        f.write(line)"
   ]
  },
  {
   "cell_type": "code",
   "execution_count": 48,
   "id": "5344e463-0a9b-464f-9a28-7315e1ccd5d4",
   "metadata": {},
   "outputs": [
    {
     "name": "stdout",
     "output_type": "stream",
     "text": [
      "\n",
      "end 1.00 Мб\n"
     ]
    }
   ],
   "source": [
    "gen = lines_gen_fun_v2(file_size=1, type_symbols='digits', status=True)\n",
    "with open('test_digits.txt', 'w', encoding='utf-8') as f:\n",
    "    for line in gen:\n",
    "        f.write(line)"
   ]
  },
  {
   "cell_type": "markdown",
   "id": "2c1a125a-1e15-4efb-b9a5-f76e5cd24a4e",
   "metadata": {},
   "source": [
    "## 9.3 Запись сгенерированных строк в текстовый файл\n"
   ]
  },
  {
   "cell_type": "code",
   "execution_count": 52,
   "id": "3bd38e18-d5a5-4e55-bdbb-2d8633c4918e",
   "metadata": {},
   "outputs": [],
   "source": [
    "def file_gen(\n",
    "    file_name: str,\n",
    "    file_size: int,\n",
    "    type_symbols: str = 'latin',\n",
    "    number_words: tuple[int, int] = (10, 20),\n",
    "    number_symbols: tuple[int, int] = (5, 10),\n",
    "    status: bool = True\n",
    "):\n",
    "    start_time = process_time()\n",
    "    generator = lines_gen_fun_v2(\n",
    "        file_size=file_size,\n",
    "        type_symbols=type_symbols,\n",
    "        min_words=number_words[0],  \n",
    "        max_words=number_words[1],  \n",
    "        min_symbols=number_symbols[0],  \n",
    "        max_symbols=number_symbols[1],  \n",
    "        status=status\n",
    "    )\n",
    "    with open(file_name, 'w', encoding='utf-8') as f:\n",
    "        for line in generator:\n",
    "            f.write(line)\n",
    "    end_time = process_time()\n",
    "    elapsed_time = end_time - start_time\n",
    "    import os\n",
    "    actual_size = os.path.getsize(file_name) / (1024 ** 2)\n",
    "    \n",
    "    print(f\" {file_name}\")\n",
    "    print(f\"Фактический размер: {actual_size:.2f} Мб\")\n",
    "    print(f\"Время выполнения: {elapsed_time:.2f} секунд\")"
   ]
  },
  {
   "cell_type": "code",
   "execution_count": 53,
   "id": "50f1feb1-56c0-4c43-96b9-fa3ffe36943f",
   "metadata": {},
   "outputs": [
    {
     "name": "stdout",
     "output_type": "stream",
     "text": [
      "\n",
      "end 1.00 Мб\n",
      " file_gen.txt\n",
      "Фактический размер: 1.01 Мб\n",
      "Время выполнения: 0.45 секунд\n"
     ]
    }
   ],
   "source": [
    "file_gen(\n",
    "        file_name=\"file_gen.txt\",\n",
    "        file_size=1,  \n",
    "        type_symbols=\"mixed\",\n",
    "        number_words=(10, 20),\n",
    "        number_symbols=(5, 10)\n",
    "    )"
   ]
  },
  {
   "cell_type": "code",
   "execution_count": 54,
   "id": "699ffaa1-ed36-4a08-ad06-461adc6a1fa2",
   "metadata": {},
   "outputs": [
    {
     "name": "stdout",
     "output_type": "stream",
     "text": [
      "\n",
      "end 0.10 Мб\n",
      " test_cyrillic.txt\n",
      "Фактический размер: 0.10 Мб\n",
      "Время выполнения: 0.03 секунд\n"
     ]
    }
   ],
   "source": [
    "file_gen(\n",
    "    file_name=\"test_cyrillic.txt\",\n",
    "    file_size=0.1,  # 10 MB\n",
    "    type_symbols=\"cyrillic\",\n",
    "    number_words=(1, 5),\n",
    "    number_symbols=(5, 12)\n",
    ")"
   ]
  },
  {
   "cell_type": "code",
   "execution_count": null,
   "id": "b28c983c-92fe-4e5c-890f-50fb292e61e1",
   "metadata": {},
   "outputs": [],
   "source": []
  }
 ],
 "metadata": {
  "kernelspec": {
   "display_name": "Python 3 (ipykernel)",
   "language": "python",
   "name": "python3"
  },
  "language_info": {
   "codemirror_mode": {
    "name": "ipython",
    "version": 3
   },
   "file_extension": ".py",
   "mimetype": "text/x-python",
   "name": "python",
   "nbconvert_exporter": "python",
   "pygments_lexer": "ipython3",
   "version": "3.10.16"
  }
 },
 "nbformat": 4,
 "nbformat_minor": 5
}
